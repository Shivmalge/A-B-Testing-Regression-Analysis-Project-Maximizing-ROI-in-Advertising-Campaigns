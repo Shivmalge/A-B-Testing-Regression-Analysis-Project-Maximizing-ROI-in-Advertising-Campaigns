{
 "cells": [
  {
   "cell_type": "markdown",
   "id": "2be36cf8",
   "metadata": {},
   "source": [
    "## Business Problem\n",
    "As a marketing agency, our primary objective is to maximize the return on investment (ROI) for our clients' advertising campaigns. We have conducted two ad campaigns, one on Facebook and the other on AdWords, and we need to determine which platform yields better results in terms of clicks, conversions, and overall cost-effectiveness. By identifying the most effective platform, we can allocate our resources more efficiently and optimize our advertising strategies to deliver better outcomes for our clients."
   ]
  },
  {
   "cell_type": "markdown",
   "id": "fa18ff15",
   "metadata": {},
   "source": [
    "## Research Question\n",
    "### Which ad platform is more effective in terms of conversions, clicks, and overall cost-effectiveness?"
   ]
  },
  {
   "cell_type": "markdown",
   "id": "e2ddb096",
   "metadata": {},
   "source": [
    "## Importing Libraries"
   ]
  },
  {
   "cell_type": "code",
   "execution_count": 1,
   "id": "bd601d09",
   "metadata": {},
   "outputs": [],
   "source": [
    "import pandas as pd\n",
    "import numpy as np\n",
    "import matplotlib.pyplot as plt\n",
    "import seaborn as sns\n",
    "import scipy.stats as st\n",
    "from sklearn.linear_model import LinearRegression\n",
    "from sklearn.metrics import r2_score,mean_squared_error\n",
    "from statsmodels.tsa.seasonal import seasonal_decompose\n",
    "from statsmodels.tsa.stattools import coint\n",
    "import warnings\n",
    "warnings.filterwarnings('ignore')"
   ]
  },
  {
   "cell_type": "markdown",
   "id": "b6b17752",
   "metadata": {},
   "source": [
    "## Data Description"
   ]
  },
  {
   "cell_type": "markdown",
   "id": "39dbe2c8",
   "metadata": {},
   "source": [
    "The dataset comprises a collection of data comparing the performance of two separate ad campaigns conducted throughout the year 2019. Specifically, the data covers a Facebook Ad campaign and an AdWords Ad campaign. For each day of the year 2019, there is a corresponding row in the dataset, resulting in a total of 365 lines of campaign data to analyze. The dataset includes various performance metrics for each ad campaign, providing insights into their effectiveness and efficiency over time.\n",
    "\n",
    "Key features included in the dataset are as follows:\n",
    "\n",
    "- Date: The date corresponding to each row of campaign data, ranging from January 1st, 2019, to December 31st, 2019.\n",
    "- Ad Views: The number of times the ad was viewed.\n",
    "- Ad Clicks: The number of clicks received on the ad.\n",
    "- Ad Conversions: The number of conversions resulting from the ad.\n",
    "- Cost per Ad: The cost associated with running the Facebook ad campaign.\n",
    "- Click-Through Rate (CTR): The ratio of clicks to views, indicating the effectiveness of the ad in generating clicks.\n",
    "- Conversion Rate: The ratio of conversions to clicks, reflecting the effectiveness of the ad in driving desired actions.\n",
    "- Cost per Click (CPC): The average cost incurred per click on the ad."
   ]
  },
  {
   "cell_type": "code",
   "execution_count": 2,
   "id": "50e6e3d6",
   "metadata": {},
   "outputs": [],
   "source": [
    "# Loading dataset\n",
    "df = pd.read_csv('marketing_campaign.csv')"
   ]
  },
  {
   "cell_type": "code",
   "execution_count": 3,
   "id": "f1b50d52",
   "metadata": {},
   "outputs": [
    {
     "data": {
      "text/html": [
       "<div>\n",
       "<style scoped>\n",
       "    .dataframe tbody tr th:only-of-type {\n",
       "        vertical-align: middle;\n",
       "    }\n",
       "\n",
       "    .dataframe tbody tr th {\n",
       "        vertical-align: top;\n",
       "    }\n",
       "\n",
       "    .dataframe thead th {\n",
       "        text-align: right;\n",
       "    }\n",
       "</style>\n",
       "<table border=\"1\" class=\"dataframe\">\n",
       "  <thead>\n",
       "    <tr style=\"text-align: right;\">\n",
       "      <th></th>\n",
       "      <th>Date</th>\n",
       "      <th>Facebook Ad Campaign</th>\n",
       "      <th>Facebook Ad Views</th>\n",
       "      <th>Facebook Ad Clicks</th>\n",
       "      <th>Facebook Ad Conversions</th>\n",
       "      <th>Cost per Facebook Ad</th>\n",
       "      <th>Facebook Click-Through Rate (Clicks / View)</th>\n",
       "      <th>Facebook Conversion Rate (Conversions / Clicks)</th>\n",
       "      <th>Facebook Cost per Click (Ad Cost / Clicks)</th>\n",
       "      <th>AdWords Ad Campaign</th>\n",
       "      <th>AdWords Ad Views</th>\n",
       "      <th>AdWords Ad Clicks</th>\n",
       "      <th>AdWords Ad Conversions</th>\n",
       "      <th>Cost per AdWords Ad</th>\n",
       "      <th>AdWords Click-Through Rate (Clicks / View)</th>\n",
       "      <th>AdWords Conversion Rate (Conversions / Click)</th>\n",
       "      <th>AdWords Cost per Click (Ad Cost / Clicks)</th>\n",
       "    </tr>\n",
       "  </thead>\n",
       "  <tbody>\n",
       "    <tr>\n",
       "      <th>0</th>\n",
       "      <td>1/1/2019</td>\n",
       "      <td>FB_Jan19</td>\n",
       "      <td>2116</td>\n",
       "      <td>18</td>\n",
       "      <td>8</td>\n",
       "      <td>$126</td>\n",
       "      <td>0.83%</td>\n",
       "      <td>42.73%</td>\n",
       "      <td>$7.14</td>\n",
       "      <td>AW_Jan19</td>\n",
       "      <td>4984</td>\n",
       "      <td>59</td>\n",
       "      <td>5</td>\n",
       "      <td>$194</td>\n",
       "      <td>1.18%</td>\n",
       "      <td>8.40%</td>\n",
       "      <td>$3.30</td>\n",
       "    </tr>\n",
       "    <tr>\n",
       "      <th>1</th>\n",
       "      <td>1/2/2019</td>\n",
       "      <td>FB_Jan19</td>\n",
       "      <td>3106</td>\n",
       "      <td>36</td>\n",
       "      <td>12</td>\n",
       "      <td>$104</td>\n",
       "      <td>1.15%</td>\n",
       "      <td>34.04%</td>\n",
       "      <td>$2.91</td>\n",
       "      <td>AW_Jan19</td>\n",
       "      <td>4022</td>\n",
       "      <td>71</td>\n",
       "      <td>6</td>\n",
       "      <td>$75</td>\n",
       "      <td>1.77%</td>\n",
       "      <td>7.80%</td>\n",
       "      <td>$1.05</td>\n",
       "    </tr>\n",
       "    <tr>\n",
       "      <th>2</th>\n",
       "      <td>1/3/2019</td>\n",
       "      <td>FB_Jan19</td>\n",
       "      <td>3105</td>\n",
       "      <td>26</td>\n",
       "      <td>8</td>\n",
       "      <td>$102</td>\n",
       "      <td>0.84%</td>\n",
       "      <td>31.45%</td>\n",
       "      <td>$3.89</td>\n",
       "      <td>AW_Jan19</td>\n",
       "      <td>3863</td>\n",
       "      <td>44</td>\n",
       "      <td>4</td>\n",
       "      <td>$141</td>\n",
       "      <td>1.13%</td>\n",
       "      <td>9.59%</td>\n",
       "      <td>$3.23</td>\n",
       "    </tr>\n",
       "    <tr>\n",
       "      <th>3</th>\n",
       "      <td>1/4/2019</td>\n",
       "      <td>FB_Jan19</td>\n",
       "      <td>1107</td>\n",
       "      <td>27</td>\n",
       "      <td>9</td>\n",
       "      <td>$71</td>\n",
       "      <td>2.45%</td>\n",
       "      <td>34.76%</td>\n",
       "      <td>$2.62</td>\n",
       "      <td>AW_Jan19</td>\n",
       "      <td>3911</td>\n",
       "      <td>49</td>\n",
       "      <td>5</td>\n",
       "      <td>$141</td>\n",
       "      <td>1.26%</td>\n",
       "      <td>11.08%</td>\n",
       "      <td>$2.86</td>\n",
       "    </tr>\n",
       "    <tr>\n",
       "      <th>4</th>\n",
       "      <td>1/5/2019</td>\n",
       "      <td>FB_Jan19</td>\n",
       "      <td>1317</td>\n",
       "      <td>15</td>\n",
       "      <td>7</td>\n",
       "      <td>$78</td>\n",
       "      <td>1.10%</td>\n",
       "      <td>47.59%</td>\n",
       "      <td>$5.38</td>\n",
       "      <td>AW_Jan19</td>\n",
       "      <td>4070</td>\n",
       "      <td>55</td>\n",
       "      <td>7</td>\n",
       "      <td>$133</td>\n",
       "      <td>1.36%</td>\n",
       "      <td>12.22%</td>\n",
       "      <td>$2.40</td>\n",
       "    </tr>\n",
       "  </tbody>\n",
       "</table>\n",
       "</div>"
      ],
      "text/plain": [
       "       Date Facebook Ad Campaign  Facebook Ad Views  Facebook Ad Clicks  \\\n",
       "0  1/1/2019             FB_Jan19               2116                  18   \n",
       "1  1/2/2019             FB_Jan19               3106                  36   \n",
       "2  1/3/2019             FB_Jan19               3105                  26   \n",
       "3  1/4/2019             FB_Jan19               1107                  27   \n",
       "4  1/5/2019             FB_Jan19               1317                  15   \n",
       "\n",
       "   Facebook Ad Conversions Cost per Facebook Ad  \\\n",
       "0                        8                 $126   \n",
       "1                       12                 $104   \n",
       "2                        8                 $102   \n",
       "3                        9                  $71   \n",
       "4                        7                  $78   \n",
       "\n",
       "  Facebook Click-Through Rate (Clicks / View)  \\\n",
       "0                                       0.83%   \n",
       "1                                       1.15%   \n",
       "2                                       0.84%   \n",
       "3                                       2.45%   \n",
       "4                                       1.10%   \n",
       "\n",
       "  Facebook Conversion Rate (Conversions / Clicks)  \\\n",
       "0                                          42.73%   \n",
       "1                                          34.04%   \n",
       "2                                          31.45%   \n",
       "3                                          34.76%   \n",
       "4                                          47.59%   \n",
       "\n",
       "  Facebook Cost per Click (Ad Cost / Clicks) AdWords Ad Campaign  \\\n",
       "0                                      $7.14            AW_Jan19   \n",
       "1                                      $2.91            AW_Jan19   \n",
       "2                                      $3.89            AW_Jan19   \n",
       "3                                      $2.62            AW_Jan19   \n",
       "4                                      $5.38            AW_Jan19   \n",
       "\n",
       "   AdWords Ad Views  AdWords Ad Clicks  AdWords Ad Conversions  \\\n",
       "0              4984                 59                       5   \n",
       "1              4022                 71                       6   \n",
       "2              3863                 44                       4   \n",
       "3              3911                 49                       5   \n",
       "4              4070                 55                       7   \n",
       "\n",
       "  Cost per AdWords Ad AdWords Click-Through Rate (Clicks / View)  \\\n",
       "0                $194                                      1.18%   \n",
       "1                 $75                                      1.77%   \n",
       "2                $141                                      1.13%   \n",
       "3                $141                                      1.26%   \n",
       "4                $133                                      1.36%   \n",
       "\n",
       "  AdWords Conversion Rate (Conversions / Click)  \\\n",
       "0                                         8.40%   \n",
       "1                                         7.80%   \n",
       "2                                         9.59%   \n",
       "3                                        11.08%   \n",
       "4                                        12.22%   \n",
       "\n",
       "  AdWords Cost per Click (Ad Cost / Clicks)  \n",
       "0                                     $3.30  \n",
       "1                                     $1.05  \n",
       "2                                     $3.23  \n",
       "3                                     $2.86  \n",
       "4                                     $2.40  "
      ]
     },
     "execution_count": 3,
     "metadata": {},
     "output_type": "execute_result"
    }
   ],
   "source": [
    "# Data preview\n",
    "df.head()"
   ]
  },
  {
   "cell_type": "code",
   "execution_count": 4,
   "id": "b5bd71d7",
   "metadata": {},
   "outputs": [
    {
     "data": {
      "text/plain": [
       "(365, 17)"
      ]
     },
     "execution_count": 4,
     "metadata": {},
     "output_type": "execute_result"
    }
   ],
   "source": [
    "# no of rows and columns in dataset\n",
    "df.shape"
   ]
  },
  {
   "cell_type": "code",
   "execution_count": 5,
   "id": "956cd49a",
   "metadata": {},
   "outputs": [
    {
     "data": {
      "text/plain": [
       "Date                                               object\n",
       "Facebook Ad Campaign                               object\n",
       "Facebook Ad Views                                   int64\n",
       "Facebook Ad Clicks                                  int64\n",
       "Facebook Ad Conversions                             int64\n",
       "Cost per Facebook Ad                               object\n",
       "Facebook Click-Through Rate (Clicks / View)        object\n",
       "Facebook Conversion Rate (Conversions / Clicks)    object\n",
       "Facebook Cost per Click (Ad Cost / Clicks)         object\n",
       "AdWords Ad Campaign                                object\n",
       "AdWords Ad Views                                    int64\n",
       "AdWords Ad Clicks                                   int64\n",
       "AdWords Ad Conversions                              int64\n",
       "Cost per AdWords Ad                                object\n",
       "AdWords Click-Through Rate (Clicks / View)         object\n",
       "AdWords Conversion Rate (Conversions / Click)      object\n",
       "AdWords Cost per Click (Ad Cost / Clicks)          object\n",
       "dtype: object"
      ]
     },
     "execution_count": 5,
     "metadata": {},
     "output_type": "execute_result"
    }
   ],
   "source": [
    "df.dtypes"
   ]
  },
  {
   "cell_type": "code",
   "execution_count": 6,
   "id": "c19c9bb6",
   "metadata": {},
   "outputs": [],
   "source": [
    "#converting data type of Date Column\n",
    "df['Date'] = pd.to_datetime(df['Date'])"
   ]
  },
  {
   "cell_type": "code",
   "execution_count": 7,
   "id": "d1a95c58",
   "metadata": {},
   "outputs": [
    {
     "data": {
      "text/html": [
       "<div>\n",
       "<style scoped>\n",
       "    .dataframe tbody tr th:only-of-type {\n",
       "        vertical-align: middle;\n",
       "    }\n",
       "\n",
       "    .dataframe tbody tr th {\n",
       "        vertical-align: top;\n",
       "    }\n",
       "\n",
       "    .dataframe thead th {\n",
       "        text-align: right;\n",
       "    }\n",
       "</style>\n",
       "<table border=\"1\" class=\"dataframe\">\n",
       "  <thead>\n",
       "    <tr style=\"text-align: right;\">\n",
       "      <th></th>\n",
       "      <th>Facebook Ad Views</th>\n",
       "      <th>Facebook Ad Clicks</th>\n",
       "      <th>Facebook Ad Conversions</th>\n",
       "      <th>AdWords Ad Views</th>\n",
       "      <th>AdWords Ad Clicks</th>\n",
       "      <th>AdWords Ad Conversions</th>\n",
       "    </tr>\n",
       "  </thead>\n",
       "  <tbody>\n",
       "    <tr>\n",
       "      <th>count</th>\n",
       "      <td>365.000000</td>\n",
       "      <td>365.000000</td>\n",
       "      <td>365.000000</td>\n",
       "      <td>365.00000</td>\n",
       "      <td>365.000000</td>\n",
       "      <td>365.000000</td>\n",
       "    </tr>\n",
       "    <tr>\n",
       "      <th>mean</th>\n",
       "      <td>2179.687671</td>\n",
       "      <td>44.049315</td>\n",
       "      <td>11.742466</td>\n",
       "      <td>4717.19726</td>\n",
       "      <td>60.383562</td>\n",
       "      <td>5.980822</td>\n",
       "    </tr>\n",
       "    <tr>\n",
       "      <th>std</th>\n",
       "      <td>618.074639</td>\n",
       "      <td>12.140559</td>\n",
       "      <td>2.924786</td>\n",
       "      <td>561.11406</td>\n",
       "      <td>14.368225</td>\n",
       "      <td>1.628106</td>\n",
       "    </tr>\n",
       "    <tr>\n",
       "      <th>min</th>\n",
       "      <td>1050.000000</td>\n",
       "      <td>15.000000</td>\n",
       "      <td>5.000000</td>\n",
       "      <td>3714.00000</td>\n",
       "      <td>31.000000</td>\n",
       "      <td>3.000000</td>\n",
       "    </tr>\n",
       "    <tr>\n",
       "      <th>25%</th>\n",
       "      <td>1656.000000</td>\n",
       "      <td>35.000000</td>\n",
       "      <td>10.000000</td>\n",
       "      <td>4247.00000</td>\n",
       "      <td>49.000000</td>\n",
       "      <td>5.000000</td>\n",
       "    </tr>\n",
       "    <tr>\n",
       "      <th>50%</th>\n",
       "      <td>2202.000000</td>\n",
       "      <td>43.000000</td>\n",
       "      <td>12.000000</td>\n",
       "      <td>4711.00000</td>\n",
       "      <td>60.000000</td>\n",
       "      <td>6.000000</td>\n",
       "    </tr>\n",
       "    <tr>\n",
       "      <th>75%</th>\n",
       "      <td>2717.000000</td>\n",
       "      <td>54.000000</td>\n",
       "      <td>13.000000</td>\n",
       "      <td>5190.00000</td>\n",
       "      <td>73.000000</td>\n",
       "      <td>7.000000</td>\n",
       "    </tr>\n",
       "    <tr>\n",
       "      <th>max</th>\n",
       "      <td>3320.000000</td>\n",
       "      <td>73.000000</td>\n",
       "      <td>19.000000</td>\n",
       "      <td>5760.00000</td>\n",
       "      <td>89.000000</td>\n",
       "      <td>9.000000</td>\n",
       "    </tr>\n",
       "  </tbody>\n",
       "</table>\n",
       "</div>"
      ],
      "text/plain": [
       "       Facebook Ad Views  Facebook Ad Clicks  Facebook Ad Conversions  \\\n",
       "count         365.000000          365.000000               365.000000   \n",
       "mean         2179.687671           44.049315                11.742466   \n",
       "std           618.074639           12.140559                 2.924786   \n",
       "min          1050.000000           15.000000                 5.000000   \n",
       "25%          1656.000000           35.000000                10.000000   \n",
       "50%          2202.000000           43.000000                12.000000   \n",
       "75%          2717.000000           54.000000                13.000000   \n",
       "max          3320.000000           73.000000                19.000000   \n",
       "\n",
       "       AdWords Ad Views  AdWords Ad Clicks  AdWords Ad Conversions  \n",
       "count         365.00000         365.000000              365.000000  \n",
       "mean         4717.19726          60.383562                5.980822  \n",
       "std           561.11406          14.368225                1.628106  \n",
       "min          3714.00000          31.000000                3.000000  \n",
       "25%          4247.00000          49.000000                5.000000  \n",
       "50%          4711.00000          60.000000                6.000000  \n",
       "75%          5190.00000          73.000000                7.000000  \n",
       "max          5760.00000          89.000000                9.000000  "
      ]
     },
     "execution_count": 7,
     "metadata": {},
     "output_type": "execute_result"
    }
   ],
   "source": [
    "df.describe()"
   ]
  },
  {
   "cell_type": "markdown",
   "id": "60345362",
   "metadata": {},
   "source": [
    "# Compairing Campaigns Performance"
   ]
  },
  {
   "cell_type": "code",
   "execution_count": 8,
   "id": "2c72baf7",
   "metadata": {},
   "outputs": [
    {
     "data": {
      "image/png": "[encoded data removed]",
      "text/plain": [
       "<Figure size 1500x600 with 2 Axes>"
      ]
     },
     "metadata": {},
     "output_type": "display_data"
    },
    {
     "data": {
      "image/png": "[encoded data removed]",
      "text/plain": [
       "<Figure size 1500x600 with 2 Axes>"
      ]
     },
     "metadata": {},
     "output_type": "display_data"
    }
   ],
   "source": [
    "# distribution of clicks and conversions\n",
    "plt.figure(figsize=(15,6))\n",
    "\n",
    "plt.subplot(1,2,1)\n",
    "plt.title('Facebook Add Clicks')\n",
    "sns.histplot(df['Facebook Ad Clicks'],bins=7,edgecolor='k',kde=True)\n",
    "plt.subplot(1,2,2)\n",
    "plt.title('Facebook Add Conversions')\n",
    "sns.histplot(df['Facebook Ad Conversions'],bins=7,edgecolor='k',kde=True)\n",
    "plt.show()\n",
    "\n",
    "plt.figure(figsize=(15,6))\n",
    "plt.subplot(1,2,1)\n",
    "plt.title('AdWords Ad Clicks')\n",
    "sns.histplot(df['AdWords Ad Clicks'],bins=7,edgecolor='k',kde=True)\n",
    "plt.subplot(1,2,2)\n",
    "plt.title('AdWords Ad Conversions')\n",
    "sns.histplot(df['AdWords Ad Conversions'],bins=7,edgecolor='k',kde=True)\n",
    "plt.show()"
   ]
  },
  {
   "cell_type": "markdown",
   "id": "9f202b14",
   "metadata": {},
   "source": [
    "All the histogram are showing somewhat symmetrical shape. This symmetrical shape suggests that the number of clicks and conversions is relatively evenly distributed. In other words, there are not many clicks or conversions that are outliers on either the high or low end."
   ]
  },
  {
   "cell_type": "markdown",
   "id": "1e2eca70",
   "metadata": {},
   "source": [
    "### How frequently do we observe days with high numbers of conversions compared to days with low numbers of conversions?"
   ]
  },
  {
   "cell_type": "code",
   "execution_count": 9,
   "id": "efb3ba0b",
   "metadata": {},
   "outputs": [],
   "source": [
    "# creating function to calculate the category for the conversions\n",
    "def create_conversion_category(conversion_col):\n",
    "    category = []\n",
    "    for conversion in df[conversion_col]:\n",
    "        if conversion < 6:\n",
    "            category.append('less than 6')\n",
    "        elif 6 <= conversion < 11:\n",
    "            category.append('6 - 10')\n",
    "        elif 11 <= conversion < 16:\n",
    "            category.append('10 - 15')\n",
    "        else:\n",
    "            category.append('more than 15')\n",
    "    return category\n",
    "\n",
    "# applying function of different campaign's conversions\n",
    "df['Facebook Conversion Category'] = create_conversion_category('Facebook Ad Conversions')\n",
    "df['AdWords Conversion Category'] = create_conversion_category('AdWords Ad Conversions')"
   ]
  },
  {
   "cell_type": "code",
   "execution_count": 10,
   "id": "8547bd9b",
   "metadata": {},
   "outputs": [
    {
     "data": {
      "text/html": [
       "<div>\n",
       "<style scoped>\n",
       "    .dataframe tbody tr th:only-of-type {\n",
       "        vertical-align: middle;\n",
       "    }\n",
       "\n",
       "    .dataframe tbody tr th {\n",
       "        vertical-align: top;\n",
       "    }\n",
       "\n",
       "    .dataframe thead th {\n",
       "        text-align: right;\n",
       "    }\n",
       "</style>\n",
       "<table border=\"1\" class=\"dataframe\">\n",
       "  <thead>\n",
       "    <tr style=\"text-align: right;\">\n",
       "      <th></th>\n",
       "      <th>Facebook Ad Conversions</th>\n",
       "      <th>Facebook Conversion Category</th>\n",
       "      <th>AdWords Ad Conversions</th>\n",
       "      <th>AdWords Conversion Category</th>\n",
       "    </tr>\n",
       "  </thead>\n",
       "  <tbody>\n",
       "    <tr>\n",
       "      <th>0</th>\n",
       "      <td>8</td>\n",
       "      <td>6 - 10</td>\n",
       "      <td>5</td>\n",
       "      <td>less than 6</td>\n",
       "    </tr>\n",
       "    <tr>\n",
       "      <th>1</th>\n",
       "      <td>12</td>\n",
       "      <td>10 - 15</td>\n",
       "      <td>6</td>\n",
       "      <td>6 - 10</td>\n",
       "    </tr>\n",
       "    <tr>\n",
       "      <th>2</th>\n",
       "      <td>8</td>\n",
       "      <td>6 - 10</td>\n",
       "      <td>4</td>\n",
       "      <td>less than 6</td>\n",
       "    </tr>\n",
       "    <tr>\n",
       "      <th>3</th>\n",
       "      <td>9</td>\n",
       "      <td>6 - 10</td>\n",
       "      <td>5</td>\n",
       "      <td>less than 6</td>\n",
       "    </tr>\n",
       "    <tr>\n",
       "      <th>4</th>\n",
       "      <td>7</td>\n",
       "      <td>6 - 10</td>\n",
       "      <td>7</td>\n",
       "      <td>6 - 10</td>\n",
       "    </tr>\n",
       "    <tr>\n",
       "      <th>...</th>\n",
       "      <td>...</td>\n",
       "      <td>...</td>\n",
       "      <td>...</td>\n",
       "      <td>...</td>\n",
       "    </tr>\n",
       "    <tr>\n",
       "      <th>360</th>\n",
       "      <td>13</td>\n",
       "      <td>10 - 15</td>\n",
       "      <td>9</td>\n",
       "      <td>6 - 10</td>\n",
       "    </tr>\n",
       "    <tr>\n",
       "      <th>361</th>\n",
       "      <td>18</td>\n",
       "      <td>more than 15</td>\n",
       "      <td>6</td>\n",
       "      <td>6 - 10</td>\n",
       "    </tr>\n",
       "    <tr>\n",
       "      <th>362</th>\n",
       "      <td>13</td>\n",
       "      <td>10 - 15</td>\n",
       "      <td>6</td>\n",
       "      <td>6 - 10</td>\n",
       "    </tr>\n",
       "    <tr>\n",
       "      <th>363</th>\n",
       "      <td>8</td>\n",
       "      <td>6 - 10</td>\n",
       "      <td>6</td>\n",
       "      <td>6 - 10</td>\n",
       "    </tr>\n",
       "    <tr>\n",
       "      <th>364</th>\n",
       "      <td>17</td>\n",
       "      <td>more than 15</td>\n",
       "      <td>6</td>\n",
       "      <td>6 - 10</td>\n",
       "    </tr>\n",
       "  </tbody>\n",
       "</table>\n",
       "<p>365 rows × 4 columns</p>\n",
       "</div>"
      ],
      "text/plain": [
       "     Facebook Ad Conversions Facebook Conversion Category  \\\n",
       "0                          8                       6 - 10   \n",
       "1                         12                      10 - 15   \n",
       "2                          8                       6 - 10   \n",
       "3                          9                       6 - 10   \n",
       "4                          7                       6 - 10   \n",
       "..                       ...                          ...   \n",
       "360                       13                      10 - 15   \n",
       "361                       18                 more than 15   \n",
       "362                       13                      10 - 15   \n",
       "363                        8                       6 - 10   \n",
       "364                       17                 more than 15   \n",
       "\n",
       "     AdWords Ad Conversions AdWords Conversion Category  \n",
       "0                         5                 less than 6  \n",
       "1                         6                      6 - 10  \n",
       "2                         4                 less than 6  \n",
       "3                         5                 less than 6  \n",
       "4                         7                      6 - 10  \n",
       "..                      ...                         ...  \n",
       "360                       9                      6 - 10  \n",
       "361                       6                      6 - 10  \n",
       "362                       6                      6 - 10  \n",
       "363                       6                      6 - 10  \n",
       "364                       6                      6 - 10  \n",
       "\n",
       "[365 rows x 4 columns]"
      ]
     },
     "execution_count": 10,
     "metadata": {},
     "output_type": "execute_result"
    }
   ],
   "source": [
    "df[['Facebook Ad Conversions','Facebook Conversion Category','AdWords Ad Conversions','AdWords Conversion Category']]"
   ]
  },
  {
   "cell_type": "code",
   "execution_count": 11,
   "id": "c257662e",
   "metadata": {},
   "outputs": [
    {
     "data": {
      "text/plain": [
       "10 - 15         189\n",
       "6 - 10          128\n",
       "more than 15     47\n",
       "less than 6       1\n",
       "Name: Facebook Conversion Category, dtype: int64"
      ]
     },
     "execution_count": 11,
     "metadata": {},
     "output_type": "execute_result"
    }
   ],
   "source": [
    "df['Facebook Conversion Category'].value_counts()"
   ]
  },
  {
   "cell_type": "code",
   "execution_count": 12,
   "id": "b49ff404",
   "metadata": {},
   "outputs": [
    {
     "data": {
      "text/html": [
       "<div>\n",
       "<style scoped>\n",
       "    .dataframe tbody tr th:only-of-type {\n",
       "        vertical-align: middle;\n",
       "    }\n",
       "\n",
       "    .dataframe tbody tr th {\n",
       "        vertical-align: top;\n",
       "    }\n",
       "\n",
       "    .dataframe thead th {\n",
       "        text-align: right;\n",
       "    }\n",
       "</style>\n",
       "<table border=\"1\" class=\"dataframe\">\n",
       "  <thead>\n",
       "    <tr style=\"text-align: right;\">\n",
       "      <th></th>\n",
       "      <th>index</th>\n",
       "      <th>Facebook Conversion Category</th>\n",
       "    </tr>\n",
       "  </thead>\n",
       "  <tbody>\n",
       "    <tr>\n",
       "      <th>0</th>\n",
       "      <td>10 - 15</td>\n",
       "      <td>189</td>\n",
       "    </tr>\n",
       "    <tr>\n",
       "      <th>1</th>\n",
       "      <td>6 - 10</td>\n",
       "      <td>128</td>\n",
       "    </tr>\n",
       "    <tr>\n",
       "      <th>2</th>\n",
       "      <td>more than 15</td>\n",
       "      <td>47</td>\n",
       "    </tr>\n",
       "    <tr>\n",
       "      <th>3</th>\n",
       "      <td>less than 6</td>\n",
       "      <td>1</td>\n",
       "    </tr>\n",
       "  </tbody>\n",
       "</table>\n",
       "</div>"
      ],
      "text/plain": [
       "          index  Facebook Conversion Category\n",
       "0       10 - 15                           189\n",
       "1        6 - 10                           128\n",
       "2  more than 15                            47\n",
       "3   less than 6                             1"
      ]
     },
     "execution_count": 12,
     "metadata": {},
     "output_type": "execute_result"
    }
   ],
   "source": [
    "pd.DataFrame(df['Facebook Conversion Category'].value_counts()).reset_index()"
   ]
  },
  {
   "cell_type": "code",
   "execution_count": 13,
   "id": "116b1205",
   "metadata": {},
   "outputs": [
    {
     "data": {
      "text/html": [
       "<div>\n",
       "<style scoped>\n",
       "    .dataframe tbody tr th:only-of-type {\n",
       "        vertical-align: middle;\n",
       "    }\n",
       "\n",
       "    .dataframe tbody tr th {\n",
       "        vertical-align: top;\n",
       "    }\n",
       "\n",
       "    .dataframe thead th {\n",
       "        text-align: right;\n",
       "    }\n",
       "</style>\n",
       "<table border=\"1\" class=\"dataframe\">\n",
       "  <thead>\n",
       "    <tr style=\"text-align: right;\">\n",
       "      <th></th>\n",
       "      <th>index</th>\n",
       "      <th>Category</th>\n",
       "    </tr>\n",
       "  </thead>\n",
       "  <tbody>\n",
       "    <tr>\n",
       "      <th>0</th>\n",
       "      <td>10 - 15</td>\n",
       "      <td>189</td>\n",
       "    </tr>\n",
       "    <tr>\n",
       "      <th>1</th>\n",
       "      <td>6 - 10</td>\n",
       "      <td>128</td>\n",
       "    </tr>\n",
       "    <tr>\n",
       "      <th>2</th>\n",
       "      <td>more than 15</td>\n",
       "      <td>47</td>\n",
       "    </tr>\n",
       "    <tr>\n",
       "      <th>3</th>\n",
       "      <td>less than 6</td>\n",
       "      <td>1</td>\n",
       "    </tr>\n",
       "  </tbody>\n",
       "</table>\n",
       "</div>"
      ],
      "text/plain": [
       "          index  Category\n",
       "0       10 - 15       189\n",
       "1        6 - 10       128\n",
       "2  more than 15        47\n",
       "3   less than 6         1"
      ]
     },
     "execution_count": 13,
     "metadata": {},
     "output_type": "execute_result"
    }
   ],
   "source": [
    "facebook = pd.DataFrame(df['Facebook Conversion Category'].value_counts()).reset_index().rename(columns = {'Facebook Conversion Category':'Category'})\n",
    "facebook"
   ]
  },
  {
   "cell_type": "code",
   "execution_count": 14,
   "id": "39cd627f",
   "metadata": {},
   "outputs": [
    {
     "data": {
      "text/html": [
       "<div>\n",
       "<style scoped>\n",
       "    .dataframe tbody tr th:only-of-type {\n",
       "        vertical-align: middle;\n",
       "    }\n",
       "\n",
       "    .dataframe tbody tr th {\n",
       "        vertical-align: top;\n",
       "    }\n",
       "\n",
       "    .dataframe thead th {\n",
       "        text-align: right;\n",
       "    }\n",
       "</style>\n",
       "<table border=\"1\" class=\"dataframe\">\n",
       "  <thead>\n",
       "    <tr style=\"text-align: right;\">\n",
       "      <th></th>\n",
       "      <th>count</th>\n",
       "      <th>Category</th>\n",
       "    </tr>\n",
       "  </thead>\n",
       "  <tbody>\n",
       "    <tr>\n",
       "      <th>0</th>\n",
       "      <td>10 - 15</td>\n",
       "      <td>189</td>\n",
       "    </tr>\n",
       "    <tr>\n",
       "      <th>1</th>\n",
       "      <td>6 - 10</td>\n",
       "      <td>128</td>\n",
       "    </tr>\n",
       "    <tr>\n",
       "      <th>2</th>\n",
       "      <td>more than 15</td>\n",
       "      <td>47</td>\n",
       "    </tr>\n",
       "    <tr>\n",
       "      <th>3</th>\n",
       "      <td>less than 6</td>\n",
       "      <td>1</td>\n",
       "    </tr>\n",
       "  </tbody>\n",
       "</table>\n",
       "</div>"
      ],
      "text/plain": [
       "          count  Category\n",
       "0       10 - 15       189\n",
       "1        6 - 10       128\n",
       "2  more than 15        47\n",
       "3   less than 6         1"
      ]
     },
     "execution_count": 14,
     "metadata": {},
     "output_type": "execute_result"
    }
   ],
   "source": [
    "facebook.rename(columns={'index':'count'})"
   ]
  },
  {
   "cell_type": "code",
   "execution_count": 15,
   "id": "233758dc",
   "metadata": {},
   "outputs": [
    {
     "data": {
      "text/plain": [
       "6 - 10         209\n",
       "less than 6    156\n",
       "Name: AdWords Conversion Category, dtype: int64"
      ]
     },
     "execution_count": 15,
     "metadata": {},
     "output_type": "execute_result"
    }
   ],
   "source": [
    "df['AdWords Conversion Category'].value_counts()"
   ]
  },
  {
   "cell_type": "code",
   "execution_count": 16,
   "id": "dba36086",
   "metadata": {},
   "outputs": [
    {
     "data": {
      "text/html": [
       "<div>\n",
       "<style scoped>\n",
       "    .dataframe tbody tr th:only-of-type {\n",
       "        vertical-align: middle;\n",
       "    }\n",
       "\n",
       "    .dataframe tbody tr th {\n",
       "        vertical-align: top;\n",
       "    }\n",
       "\n",
       "    .dataframe thead th {\n",
       "        text-align: right;\n",
       "    }\n",
       "</style>\n",
       "<table border=\"1\" class=\"dataframe\">\n",
       "  <thead>\n",
       "    <tr style=\"text-align: right;\">\n",
       "      <th></th>\n",
       "      <th>index</th>\n",
       "      <th>Category</th>\n",
       "    </tr>\n",
       "  </thead>\n",
       "  <tbody>\n",
       "    <tr>\n",
       "      <th>0</th>\n",
       "      <td>6 - 10</td>\n",
       "      <td>209</td>\n",
       "    </tr>\n",
       "    <tr>\n",
       "      <th>1</th>\n",
       "      <td>less than 6</td>\n",
       "      <td>156</td>\n",
       "    </tr>\n",
       "  </tbody>\n",
       "</table>\n",
       "</div>"
      ],
      "text/plain": [
       "         index  Category\n",
       "0       6 - 10       209\n",
       "1  less than 6       156"
      ]
     },
     "execution_count": 16,
     "metadata": {},
     "output_type": "execute_result"
    }
   ],
   "source": [
    "adWords = pd.DataFrame(df['AdWords Conversion Category'].value_counts()).reset_index().rename(columns={'AdWords Conversion Category':'Category'})\n",
    "adWords"
   ]
  },
  {
   "cell_type": "code",
   "execution_count": 17,
   "id": "4d540ba8",
   "metadata": {},
   "outputs": [
    {
     "data": {
      "text/html": [
       "<div>\n",
       "<style scoped>\n",
       "    .dataframe tbody tr th:only-of-type {\n",
       "        vertical-align: middle;\n",
       "    }\n",
       "\n",
       "    .dataframe tbody tr th {\n",
       "        vertical-align: top;\n",
       "    }\n",
       "\n",
       "    .dataframe thead th {\n",
       "        text-align: right;\n",
       "    }\n",
       "</style>\n",
       "<table border=\"1\" class=\"dataframe\">\n",
       "  <thead>\n",
       "    <tr style=\"text-align: right;\">\n",
       "      <th></th>\n",
       "      <th>index</th>\n",
       "      <th>Category_x</th>\n",
       "      <th>Category_y</th>\n",
       "    </tr>\n",
       "  </thead>\n",
       "  <tbody>\n",
       "    <tr>\n",
       "      <th>0</th>\n",
       "      <td>10 - 15</td>\n",
       "      <td>189</td>\n",
       "      <td>0.0</td>\n",
       "    </tr>\n",
       "    <tr>\n",
       "      <th>1</th>\n",
       "      <td>6 - 10</td>\n",
       "      <td>128</td>\n",
       "      <td>209.0</td>\n",
       "    </tr>\n",
       "    <tr>\n",
       "      <th>2</th>\n",
       "      <td>more than 15</td>\n",
       "      <td>47</td>\n",
       "      <td>0.0</td>\n",
       "    </tr>\n",
       "    <tr>\n",
       "      <th>3</th>\n",
       "      <td>less than 6</td>\n",
       "      <td>1</td>\n",
       "      <td>156.0</td>\n",
       "    </tr>\n",
       "  </tbody>\n",
       "</table>\n",
       "</div>"
      ],
      "text/plain": [
       "          index  Category_x  Category_y\n",
       "0       10 - 15         189         0.0\n",
       "1        6 - 10         128       209.0\n",
       "2  more than 15          47         0.0\n",
       "3   less than 6           1       156.0"
      ]
     },
     "execution_count": 17,
     "metadata": {},
     "output_type": "execute_result"
    }
   ],
   "source": [
    "category_df = pd.merge(facebook,adWords,on='index',how='outer').fillna(0)\n",
    "category_df.head()"
   ]
  },
  {
   "cell_type": "code",
   "execution_count": 18,
   "id": "2ecb7ec9",
   "metadata": {},
   "outputs": [],
   "source": [
    "category_df = category_df.iloc[[3,1,0,2]]"
   ]
  },
  {
   "cell_type": "code",
   "execution_count": 19,
   "id": "38d85d6e",
   "metadata": {},
   "outputs": [
    {
     "data": {
      "text/plain": [
       "array([0, 1, 2, 3])"
      ]
     },
     "execution_count": 19,
     "metadata": {},
     "output_type": "execute_result"
    }
   ],
   "source": [
    "X_axis = np.arange(len(category_df))\n",
    "X_axis"
   ]
  },
  {
   "cell_type": "code",
   "execution_count": 20,
   "id": "4e107923",
   "metadata": {},
   "outputs": [
    {
     "data": {
      "image/png": "[encoded data removed]",
      "text/plain": [
       "<Figure size 1500x600 with 1 Axes>"
      ]
     },
     "metadata": {},
     "output_type": "display_data"
    }
   ],
   "source": [
    "X_axis = np.arange(len(category_df)) \n",
    "plt.figure(figsize = (15,6))\n",
    "plt.bar(X_axis - 0.2, category_df['Category_x'], 0.4, label = 'Facebook', color = '#03989E', linewidth = 1, edgecolor = 'k') \n",
    "plt.bar(X_axis + 0.2, category_df['Category_y'], 0.4, label = 'Adwords', color = '#A62372', linewidth = 1, edgecolor = 'k') \n",
    "  \n",
    "plt.xticks(X_axis, category_df['index']) \n",
    "plt.xlabel(\"Conversion Category\") \n",
    "plt.ylabel(\"Number of days\") \n",
    "plt.title(\"Frequency of Daily Conversions by Conversion Categories\", fontsize = 15) \n",
    "plt.legend(fontsize = 15) \n",
    "plt.show() "
   ]
  },
  {
   "cell_type": "markdown",
   "id": "f8c697e3",
   "metadata": {},
   "source": [
    "- The data suggests Facebook had more frequent higher conversion days than AdWords, which either had very low conversion rates (less than 6) or moderate ones (6 - 10).\n",
    "- There is a significant variance in the number of high-conversion days between two different campaigns.\n",
    "- The absence of any days with conversions between 10 - 15 and more than 15 in AdWords indicates a need to review what strategies were changed or what external factors could have influenced these numbers."
   ]
  },
  {
   "cell_type": "markdown",
   "id": "56775c2a",
   "metadata": {},
   "source": [
    "# Do more clicks on the ad really lead to more sales?"
   ]
  },
  {
   "cell_type": "code",
   "execution_count": 21,
   "id": "51d6cdcf",
   "metadata": {},
   "outputs": [
    {
     "data": {
      "image/png": "[encoded data removed]",
      "text/plain": [
       "<Figure size 1500x600 with 2 Axes>"
      ]
     },
     "metadata": {},
     "output_type": "display_data"
    }
   ],
   "source": [
    "plt.figure(figsize=(15,6))\n",
    "plt.subplot(1,2,1)\n",
    "plt.title('Facebook')\n",
    "sns.scatterplot(x=df['Facebook Ad Clicks'],y=df['Facebook Ad Conversions'],color = '#03989E')\n",
    "plt.xlabel('Clicks')\n",
    "plt.ylabel('Conversions')\n",
    "\n",
    "plt.subplot(1,2,2)\n",
    "plt.title('AdWords')\n",
    "sns.scatterplot(x=df['AdWords Ad Clicks'],y=df['AdWords Ad Conversions'],color='#03989E')\n",
    "plt.xlabel('Clicks')\n",
    "plt.ylabel('Conversions')\n",
    "\n",
    "plt.show()"
   ]
  },
  {
   "cell_type": "code",
   "execution_count": 22,
   "id": "c716d073",
   "metadata": {},
   "outputs": [
    {
     "data": {
      "text/html": [
       "<div>\n",
       "<style scoped>\n",
       "    .dataframe tbody tr th:only-of-type {\n",
       "        vertical-align: middle;\n",
       "    }\n",
       "\n",
       "    .dataframe tbody tr th {\n",
       "        vertical-align: top;\n",
       "    }\n",
       "\n",
       "    .dataframe thead th {\n",
       "        text-align: right;\n",
       "    }\n",
       "</style>\n",
       "<table border=\"1\" class=\"dataframe\">\n",
       "  <thead>\n",
       "    <tr style=\"text-align: right;\">\n",
       "      <th></th>\n",
       "      <th>Facebook Ad Clicks</th>\n",
       "      <th>Facebook Ad Conversions</th>\n",
       "    </tr>\n",
       "  </thead>\n",
       "  <tbody>\n",
       "    <tr>\n",
       "      <th>Facebook Ad Clicks</th>\n",
       "      <td>1.000000</td>\n",
       "      <td>0.873775</td>\n",
       "    </tr>\n",
       "    <tr>\n",
       "      <th>Facebook Ad Conversions</th>\n",
       "      <td>0.873775</td>\n",
       "      <td>1.000000</td>\n",
       "    </tr>\n",
       "  </tbody>\n",
       "</table>\n",
       "</div>"
      ],
      "text/plain": [
       "                         Facebook Ad Clicks  Facebook Ad Conversions\n",
       "Facebook Ad Clicks                 1.000000                 0.873775\n",
       "Facebook Ad Conversions            0.873775                 1.000000"
      ]
     },
     "execution_count": 22,
     "metadata": {},
     "output_type": "execute_result"
    }
   ],
   "source": [
    "facebook_corr = df[['Facebook Ad Clicks','Facebook Ad Conversions']].corr()\n",
    "facebook_corr"
   ]
  },
  {
   "cell_type": "code",
   "execution_count": 23,
   "id": "579e78c5",
   "metadata": {},
   "outputs": [
    {
     "data": {
      "text/html": [
       "<div>\n",
       "<style scoped>\n",
       "    .dataframe tbody tr th:only-of-type {\n",
       "        vertical-align: middle;\n",
       "    }\n",
       "\n",
       "    .dataframe tbody tr th {\n",
       "        vertical-align: top;\n",
       "    }\n",
       "\n",
       "    .dataframe thead th {\n",
       "        text-align: right;\n",
       "    }\n",
       "</style>\n",
       "<table border=\"1\" class=\"dataframe\">\n",
       "  <thead>\n",
       "    <tr style=\"text-align: right;\">\n",
       "      <th></th>\n",
       "      <th>AdWords Ad Clicks</th>\n",
       "      <th>AdWords Ad Conversions</th>\n",
       "    </tr>\n",
       "  </thead>\n",
       "  <tbody>\n",
       "    <tr>\n",
       "      <th>AdWords Ad Clicks</th>\n",
       "      <td>1.000000</td>\n",
       "      <td>0.447993</td>\n",
       "    </tr>\n",
       "    <tr>\n",
       "      <th>AdWords Ad Conversions</th>\n",
       "      <td>0.447993</td>\n",
       "      <td>1.000000</td>\n",
       "    </tr>\n",
       "  </tbody>\n",
       "</table>\n",
       "</div>"
      ],
      "text/plain": [
       "                        AdWords Ad Clicks  AdWords Ad Conversions\n",
       "AdWords Ad Clicks                1.000000                0.447993\n",
       "AdWords Ad Conversions           0.447993                1.000000"
      ]
     },
     "execution_count": 23,
     "metadata": {},
     "output_type": "execute_result"
    }
   ],
   "source": [
    "adWords_corr = df[['AdWords Ad Clicks','AdWords Ad Conversions']].corr()\n",
    "adWords_corr"
   ]
  },
  {
   "cell_type": "code",
   "execution_count": 24,
   "id": "fdf0b363",
   "metadata": {},
   "outputs": [
    {
     "name": "stdout",
     "output_type": "stream",
     "text": [
      "Correlation Coefficient \n",
      "--------------\n",
      "Facebook : 0.87\n",
      "AdWords :  0.45\n"
     ]
    }
   ],
   "source": [
    "print('Correlation Coefficient \\n--------------')\n",
    "print('Facebook :',round(facebook_corr.values[0,1],2))\n",
    "print('AdWords : ',round(adWords_corr.values[0,1],2))"
   ]
  },
  {
   "cell_type": "code",
   "execution_count": 25,
   "id": "ce3341d8",
   "metadata": {},
   "outputs": [
    {
     "data": {
      "text/plain": [
       "<AxesSubplot: >"
      ]
     },
     "execution_count": 25,
     "metadata": {},
     "output_type": "execute_result"
    },
    {
     "data": {
      "image/png": "[encoded data removed]",
      "text/plain": [
       "<Figure size 640x480 with 2 Axes>"
      ]
     },
     "metadata": {},
     "output_type": "display_data"
    }
   ],
   "source": [
    "sns.heatmap(facebook_corr,annot=True)"
   ]
  },
  {
   "cell_type": "code",
   "execution_count": 26,
   "id": "6818c924",
   "metadata": {},
   "outputs": [
    {
     "data": {
      "text/plain": [
       "<AxesSubplot: >"
      ]
     },
     "execution_count": 26,
     "metadata": {},
     "output_type": "execute_result"
    },
    {
     "data": {
      "image/png": "[encoded data removed]",
      "text/plain": [
       "<Figure size 640x480 with 2 Axes>"
      ]
     },
     "metadata": {},
     "output_type": "display_data"
    }
   ],
   "source": [
    "sns.heatmap(adWords_corr,annot=True)"
   ]
  },
  {
   "cell_type": "markdown",
   "id": "1763fbcd",
   "metadata": {},
   "source": [
    "- A correlation coefficient of 0.87 indicates a strong positive linear relationship between clicks on Facebook ads and sales. This suggests that as the number of clicks on Facebook ads increases, sales tend to increase as well.\n",
    "- This strong correlation suggests that Facebook ads are highly effective in driving sales, as a large portion of the variation in sales can be explained by the variation in clicks on Facebook ads.\n",
    "- The strong correlation between clicks on Facebook ads and sales suggests that Facebook advertising is highly effective in driving sales for the business. Increasing investment in Facebook ads or optimizing their performance could potentially lead to even higher sales.\n",
    "- A correlation coefficient of 0.45 indicates a moderate positive linear relationship between clicks on AdWords ads and sales. While there is still a positive relationship, it is not as strong as with Facebook ads.\n",
    "- The moderate correlation between clicks on AdWords ads and sales indicates that while AdWords advertising does contribute to sales, its effectiveness may be influenced by other factors. Further analysis is needed to identify these factors and optimize AdWords campaigns accordingly."
   ]
  },
  {
   "cell_type": "markdown",
   "id": "84334e33",
   "metadata": {},
   "source": [
    "# Hypothesis Testing"
   ]
  },
  {
   "cell_type": "markdown",
   "id": "dfae3679",
   "metadata": {},
   "source": [
    "Hypothesis: Advertising on Facebook will result in a greater number of conversions compared to advertising on AdWords.\n",
    "\n",
    "Null Hypothesis (H0): There is no difference in the number of conversions between Facebook and AdWords, or the number of conversions from AdWords is greater than or equal to those from Facebook.\n",
    "\n",
    "H0: µ_Facebook ≤ µ_AdWords\n",
    "\n",
    "Alternate Hypothesis (H1): The number of conversions from Facebook is greater than the number of conversions from AdWords.\n",
    "\n",
    "H1: µ_Facebook > µ_AdWords"
   ]
  },
  {
   "cell_type": "code",
   "execution_count": 27,
   "id": "73ad492f",
   "metadata": {},
   "outputs": [
    {
     "name": "stdout",
     "output_type": "stream",
     "text": [
      "Mean Conversion \n",
      "---------\n",
      "Facebook:  11.74\n",
      "AdWords:  5.98\n",
      "\n",
      "T statistic 32.88402060758184 \n",
      "p-value 9.348918164530465e-134\n",
      "\n",
      "p-value is less than significance value, Reject the null hypothesis\n"
     ]
    }
   ],
   "source": [
    "print('Mean Conversion \\n---------')\n",
    "print('Facebook: ',round(df['Facebook Ad Conversions'].mean(),2))\n",
    "print('AdWords: ',round(df['AdWords Ad Conversions'].mean(),2))\n",
    "\n",
    "t_stats, p_value = st.ttest_ind(a=df['Facebook Ad Conversions'],b = df['AdWords Ad Conversions'],equal_var = False)\n",
    "print('\\nT statistic', t_stats, '\\np-value',p_value)\n",
    "\n",
    "if p_value < 0.05:\n",
    "    print(\"\\np-value is less than significance value, Reject the null hypothesis\")\n",
    "else:\n",
    "    print(\"\\np-value is greater than significance value, Accept the null hypothesis\")"
   ]
  },
  {
   "cell_type": "markdown",
   "id": "50de9836",
   "metadata": {},
   "source": [
    "- The mean number of conversions from Facebook ads (11.74) is substantially higher than the mean number of conversions from AdWords ads (5.98). This suggests that, on average, Facebook advertising is more effective in generating conversions compared to AdWords advertising.\n",
    "- The T statistic (32.88) is a measure of the difference between the means of the two groups relative to the variation within the groups. A larger T statistic indicates a greater difference between the means of the two groups.\n",
    "- The p-value (9.35e-134) is extremely small, indicating strong evidence against the null hypothesis.\n",
    "- The results strongly support the alternate hypothesis, indicating that the number of conversions from Facebook advertising is indeed greater than the number of conversions from AdWords advertising.\n",
    "- Facebook advertising appears to be a more effective channel for generating conversions compared to AdWords advertising, based on the sample data analyzed.\n",
    "- Given the significant difference in conversion rates between Facebook and AdWords, consider reallocating resources towards Facebook advertising efforts. This could involve increasing ad spend, expanding targeting efforts, or experimenting with different ad formats to capitalize on the platform's effectiveness in driving conversions."
   ]
  },
  {
   "cell_type": "markdown",
   "id": "eab08dd3",
   "metadata": {},
   "source": [
    "# Regression Analysis"
   ]
  },
  {
   "cell_type": "markdown",
   "id": "b9d46493",
   "metadata": {},
   "source": [
    "### What will happen when I do go with the Facebook Ad? How many facebook ad conversions can I expect given a certain number of facebook ad clicks?"
   ]
  },
  {
   "cell_type": "code",
   "execution_count": 28,
   "id": "47b62bda",
   "metadata": {},
   "outputs": [
    {
     "name": "stdout",
     "output_type": "stream",
     "text": [
      "Accuracy 76.35 %\n",
      "Mean Squared Error 2.02\n"
     ]
    }
   ],
   "source": [
    "X = df[['Facebook Ad Clicks']]\n",
    "y = df[['Facebook Ad Conversions']]\n",
    "\n",
    "reg_model = LinearRegression()\n",
    "reg_model.fit(X,y)\n",
    "prediction = reg_model.predict(X)\n",
    "\n",
    "r2 = r2_score(y,prediction)*100\n",
    "mse = mean_squared_error(y,prediction)\n",
    "print('Accuracy',round(r2,2),'%')\n",
    "print('Mean Squared Error',round(mse,2))"
   ]
  },
  {
   "cell_type": "code",
   "execution_count": 29,
   "id": "69f4a1cf",
   "metadata": {},
   "outputs": [
    {
     "data": {
      "image/png": "[encoded data removed]",
      "text/plain": [
       "<Figure size 1500x600 with 1 Axes>"
      ]
     },
     "metadata": {},
     "output_type": "display_data"
    }
   ],
   "source": [
    "plt.figure(figsize=(15,6))\n",
    "sns.scatterplot(x=df['Facebook Ad Clicks'],y=df['Facebook Ad Conversions'],color='#03989E',label='Actual Data Points')\n",
    "plt.plot(df['Facebook Ad Clicks'],prediction,color='#A62372',label='Best Fit Line')\n",
    "plt.legend()\n",
    "plt.show()"
   ]
  },
  {
   "cell_type": "code",
   "execution_count": 30,
   "id": "d47fb953",
   "metadata": {},
   "outputs": [
    {
     "name": "stdout",
     "output_type": "stream",
     "text": [
      "For 50 Clicks, Expected Conversion : 13.0\n",
      "For 80 Clicks, Expected Conversion : 19.31\n"
     ]
    }
   ],
   "source": [
    "print(f'For {50} Clicks, Expected Conversion : {round(reg_model.predict([[50]])[0][0],2)}')\n",
    "print(f'For {80} Clicks, Expected Conversion : {round(reg_model.predict([[80]])[0][0],2)}')"
   ]
  },
  {
   "cell_type": "markdown",
   "id": "f984a7e2",
   "metadata": {},
   "source": [
    "- The model has a reasonably good predictive power, with an R2 score of 76.35%. This suggests that it can effectively predict Facebook ad conversions based on the number of Facebook ad clicks.\n",
    "- With the insights provided by the Linear Regression model, businesses can make informed decisions about resource allocation, budget planning, and campaign optimization.\n",
    "- For instance, knowing the expected number of Facebook ad conversions based on a certain number of Facebook ad clicks can help in setting realistic campaign goals, optimizing ad spend, and assessing the ROI of Facebook advertising efforts."
   ]
  },
  {
   "cell_type": "markdown",
   "id": "39e7df9a",
   "metadata": {},
   "source": [
    "# Analyzing Facebook Campaign metrics over time."
   ]
  },
  {
   "cell_type": "code",
   "execution_count": 31,
   "id": "5ec8b4a3",
   "metadata": {},
   "outputs": [
    {
     "data": {
      "text/plain": [
       "Index(['Date', 'Facebook Ad Campaign', 'Facebook Ad Views',\n",
       "       'Facebook Ad Clicks', 'Facebook Ad Conversions', 'Cost per Facebook Ad',\n",
       "       'Facebook Click-Through Rate (Clicks / View)',\n",
       "       'Facebook Conversion Rate (Conversions / Clicks)',\n",
       "       'Facebook Cost per Click (Ad Cost / Clicks)', 'AdWords Ad Campaign',\n",
       "       'AdWords Ad Views', 'AdWords Ad Clicks', 'AdWords Ad Conversions',\n",
       "       'Cost per AdWords Ad', 'AdWords Click-Through Rate (Clicks / View)',\n",
       "       'AdWords Conversion Rate (Conversions / Click)',\n",
       "       'AdWords Cost per Click (Ad Cost / Clicks)',\n",
       "       'Facebook Conversion Category', 'AdWords Conversion Category'],\n",
       "      dtype='object')"
      ]
     },
     "execution_count": 31,
     "metadata": {},
     "output_type": "execute_result"
    }
   ],
   "source": [
    "df.columns"
   ]
  },
  {
   "cell_type": "code",
   "execution_count": 32,
   "id": "d6d13c6a",
   "metadata": {},
   "outputs": [
    {
     "data": {
      "text/html": [
       "<div>\n",
       "<style scoped>\n",
       "    .dataframe tbody tr th:only-of-type {\n",
       "        vertical-align: middle;\n",
       "    }\n",
       "\n",
       "    .dataframe tbody tr th {\n",
       "        vertical-align: top;\n",
       "    }\n",
       "\n",
       "    .dataframe thead th {\n",
       "        text-align: right;\n",
       "    }\n",
       "</style>\n",
       "<table border=\"1\" class=\"dataframe\">\n",
       "  <thead>\n",
       "    <tr style=\"text-align: right;\">\n",
       "      <th></th>\n",
       "      <th>Date</th>\n",
       "      <th>Facebook Ad Campaign</th>\n",
       "      <th>Facebook Ad Views</th>\n",
       "      <th>Facebook Ad Clicks</th>\n",
       "      <th>Facebook Ad Conversions</th>\n",
       "      <th>Cost per Facebook Ad</th>\n",
       "      <th>Facebook Click-Through Rate (Clicks / View)</th>\n",
       "      <th>Facebook Conversion Rate (Conversions / Clicks)</th>\n",
       "      <th>Facebook Cost per Click (Ad Cost / Clicks)</th>\n",
       "      <th>AdWords Ad Campaign</th>\n",
       "      <th>AdWords Ad Views</th>\n",
       "      <th>AdWords Ad Clicks</th>\n",
       "      <th>AdWords Ad Conversions</th>\n",
       "      <th>Cost per AdWords Ad</th>\n",
       "      <th>AdWords Click-Through Rate (Clicks / View)</th>\n",
       "      <th>AdWords Conversion Rate (Conversions / Click)</th>\n",
       "      <th>AdWords Cost per Click (Ad Cost / Clicks)</th>\n",
       "      <th>Facebook Conversion Category</th>\n",
       "      <th>AdWords Conversion Category</th>\n",
       "    </tr>\n",
       "  </thead>\n",
       "  <tbody>\n",
       "    <tr>\n",
       "      <th>0</th>\n",
       "      <td>2019-01-01</td>\n",
       "      <td>FB_Jan19</td>\n",
       "      <td>2116</td>\n",
       "      <td>18</td>\n",
       "      <td>8</td>\n",
       "      <td>$126</td>\n",
       "      <td>0.83%</td>\n",
       "      <td>42.73%</td>\n",
       "      <td>$7.14</td>\n",
       "      <td>AW_Jan19</td>\n",
       "      <td>4984</td>\n",
       "      <td>59</td>\n",
       "      <td>5</td>\n",
       "      <td>$194</td>\n",
       "      <td>1.18%</td>\n",
       "      <td>8.40%</td>\n",
       "      <td>$3.30</td>\n",
       "      <td>6 - 10</td>\n",
       "      <td>less than 6</td>\n",
       "    </tr>\n",
       "    <tr>\n",
       "      <th>1</th>\n",
       "      <td>2019-01-02</td>\n",
       "      <td>FB_Jan19</td>\n",
       "      <td>3106</td>\n",
       "      <td>36</td>\n",
       "      <td>12</td>\n",
       "      <td>$104</td>\n",
       "      <td>1.15%</td>\n",
       "      <td>34.04%</td>\n",
       "      <td>$2.91</td>\n",
       "      <td>AW_Jan19</td>\n",
       "      <td>4022</td>\n",
       "      <td>71</td>\n",
       "      <td>6</td>\n",
       "      <td>$75</td>\n",
       "      <td>1.77%</td>\n",
       "      <td>7.80%</td>\n",
       "      <td>$1.05</td>\n",
       "      <td>10 - 15</td>\n",
       "      <td>6 - 10</td>\n",
       "    </tr>\n",
       "    <tr>\n",
       "      <th>2</th>\n",
       "      <td>2019-01-03</td>\n",
       "      <td>FB_Jan19</td>\n",
       "      <td>3105</td>\n",
       "      <td>26</td>\n",
       "      <td>8</td>\n",
       "      <td>$102</td>\n",
       "      <td>0.84%</td>\n",
       "      <td>31.45%</td>\n",
       "      <td>$3.89</td>\n",
       "      <td>AW_Jan19</td>\n",
       "      <td>3863</td>\n",
       "      <td>44</td>\n",
       "      <td>4</td>\n",
       "      <td>$141</td>\n",
       "      <td>1.13%</td>\n",
       "      <td>9.59%</td>\n",
       "      <td>$3.23</td>\n",
       "      <td>6 - 10</td>\n",
       "      <td>less than 6</td>\n",
       "    </tr>\n",
       "    <tr>\n",
       "      <th>3</th>\n",
       "      <td>2019-01-04</td>\n",
       "      <td>FB_Jan19</td>\n",
       "      <td>1107</td>\n",
       "      <td>27</td>\n",
       "      <td>9</td>\n",
       "      <td>$71</td>\n",
       "      <td>2.45%</td>\n",
       "      <td>34.76%</td>\n",
       "      <td>$2.62</td>\n",
       "      <td>AW_Jan19</td>\n",
       "      <td>3911</td>\n",
       "      <td>49</td>\n",
       "      <td>5</td>\n",
       "      <td>$141</td>\n",
       "      <td>1.26%</td>\n",
       "      <td>11.08%</td>\n",
       "      <td>$2.86</td>\n",
       "      <td>6 - 10</td>\n",
       "      <td>less than 6</td>\n",
       "    </tr>\n",
       "    <tr>\n",
       "      <th>4</th>\n",
       "      <td>2019-01-05</td>\n",
       "      <td>FB_Jan19</td>\n",
       "      <td>1317</td>\n",
       "      <td>15</td>\n",
       "      <td>7</td>\n",
       "      <td>$78</td>\n",
       "      <td>1.10%</td>\n",
       "      <td>47.59%</td>\n",
       "      <td>$5.38</td>\n",
       "      <td>AW_Jan19</td>\n",
       "      <td>4070</td>\n",
       "      <td>55</td>\n",
       "      <td>7</td>\n",
       "      <td>$133</td>\n",
       "      <td>1.36%</td>\n",
       "      <td>12.22%</td>\n",
       "      <td>$2.40</td>\n",
       "      <td>6 - 10</td>\n",
       "      <td>6 - 10</td>\n",
       "    </tr>\n",
       "  </tbody>\n",
       "</table>\n",
       "</div>"
      ],
      "text/plain": [
       "        Date Facebook Ad Campaign  Facebook Ad Views  Facebook Ad Clicks  \\\n",
       "0 2019-01-01             FB_Jan19               2116                  18   \n",
       "1 2019-01-02             FB_Jan19               3106                  36   \n",
       "2 2019-01-03             FB_Jan19               3105                  26   \n",
       "3 2019-01-04             FB_Jan19               1107                  27   \n",
       "4 2019-01-05             FB_Jan19               1317                  15   \n",
       "\n",
       "   Facebook Ad Conversions Cost per Facebook Ad  \\\n",
       "0                        8                 $126   \n",
       "1                       12                 $104   \n",
       "2                        8                 $102   \n",
       "3                        9                  $71   \n",
       "4                        7                  $78   \n",
       "\n",
       "  Facebook Click-Through Rate (Clicks / View)  \\\n",
       "0                                       0.83%   \n",
       "1                                       1.15%   \n",
       "2                                       0.84%   \n",
       "3                                       2.45%   \n",
       "4                                       1.10%   \n",
       "\n",
       "  Facebook Conversion Rate (Conversions / Clicks)  \\\n",
       "0                                          42.73%   \n",
       "1                                          34.04%   \n",
       "2                                          31.45%   \n",
       "3                                          34.76%   \n",
       "4                                          47.59%   \n",
       "\n",
       "  Facebook Cost per Click (Ad Cost / Clicks) AdWords Ad Campaign  \\\n",
       "0                                      $7.14            AW_Jan19   \n",
       "1                                      $2.91            AW_Jan19   \n",
       "2                                      $3.89            AW_Jan19   \n",
       "3                                      $2.62            AW_Jan19   \n",
       "4                                      $5.38            AW_Jan19   \n",
       "\n",
       "   AdWords Ad Views  AdWords Ad Clicks  AdWords Ad Conversions  \\\n",
       "0              4984                 59                       5   \n",
       "1              4022                 71                       6   \n",
       "2              3863                 44                       4   \n",
       "3              3911                 49                       5   \n",
       "4              4070                 55                       7   \n",
       "\n",
       "  Cost per AdWords Ad AdWords Click-Through Rate (Clicks / View)  \\\n",
       "0                $194                                      1.18%   \n",
       "1                 $75                                      1.77%   \n",
       "2                $141                                      1.13%   \n",
       "3                $141                                      1.26%   \n",
       "4                $133                                      1.36%   \n",
       "\n",
       "  AdWords Conversion Rate (Conversions / Click)  \\\n",
       "0                                         8.40%   \n",
       "1                                         7.80%   \n",
       "2                                         9.59%   \n",
       "3                                        11.08%   \n",
       "4                                        12.22%   \n",
       "\n",
       "  AdWords Cost per Click (Ad Cost / Clicks) Facebook Conversion Category  \\\n",
       "0                                     $3.30                       6 - 10   \n",
       "1                                     $1.05                      10 - 15   \n",
       "2                                     $3.23                       6 - 10   \n",
       "3                                     $2.86                       6 - 10   \n",
       "4                                     $2.40                       6 - 10   \n",
       "\n",
       "  AdWords Conversion Category  \n",
       "0                 less than 6  \n",
       "1                      6 - 10  \n",
       "2                 less than 6  \n",
       "3                 less than 6  \n",
       "4                      6 - 10  "
      ]
     },
     "execution_count": 32,
     "metadata": {},
     "output_type": "execute_result"
    }
   ],
   "source": [
    "df.head()"
   ]
  },
  {
   "cell_type": "code",
   "execution_count": 33,
   "id": "dceb542f",
   "metadata": {},
   "outputs": [],
   "source": [
    "df['Cost per Facebook Ad'] = df['Cost per Facebook Ad'].apply(lambda x:float(x[1:]))\n",
    "df['Facebook Click-Through Rate (Clicks / View)'] = df['Facebook Click-Through Rate (Clicks / View)'].apply(lambda x:float(x[:-1]))\n",
    "df['Facebook Conversion Rate (Conversions / Clicks)'] = df['Facebook Conversion Rate (Conversions / Clicks)'].apply(lambda x:float(x[:-1]))\n",
    "df['Facebook Cost per Click (Ad Cost / Clicks)'] = df['Facebook Cost per Click (Ad Cost / Clicks)'].apply(lambda x:float(x[1:]))"
   ]
  },
  {
   "cell_type": "code",
   "execution_count": 34,
   "id": "5d0701be",
   "metadata": {},
   "outputs": [
    {
     "data": {
      "text/html": [
       "<div>\n",
       "<style scoped>\n",
       "    .dataframe tbody tr th:only-of-type {\n",
       "        vertical-align: middle;\n",
       "    }\n",
       "\n",
       "    .dataframe tbody tr th {\n",
       "        vertical-align: top;\n",
       "    }\n",
       "\n",
       "    .dataframe thead th {\n",
       "        text-align: right;\n",
       "    }\n",
       "</style>\n",
       "<table border=\"1\" class=\"dataframe\">\n",
       "  <thead>\n",
       "    <tr style=\"text-align: right;\">\n",
       "      <th></th>\n",
       "      <th>Date</th>\n",
       "      <th>Facebook Ad Campaign</th>\n",
       "      <th>Facebook Ad Views</th>\n",
       "      <th>Facebook Ad Clicks</th>\n",
       "      <th>Facebook Ad Conversions</th>\n",
       "      <th>Cost per Facebook Ad</th>\n",
       "      <th>Facebook Click-Through Rate (Clicks / View)</th>\n",
       "      <th>Facebook Conversion Rate (Conversions / Clicks)</th>\n",
       "      <th>Facebook Cost per Click (Ad Cost / Clicks)</th>\n",
       "      <th>AdWords Ad Campaign</th>\n",
       "      <th>AdWords Ad Views</th>\n",
       "      <th>AdWords Ad Clicks</th>\n",
       "      <th>AdWords Ad Conversions</th>\n",
       "      <th>Cost per AdWords Ad</th>\n",
       "      <th>AdWords Click-Through Rate (Clicks / View)</th>\n",
       "      <th>AdWords Conversion Rate (Conversions / Click)</th>\n",
       "      <th>AdWords Cost per Click (Ad Cost / Clicks)</th>\n",
       "      <th>Facebook Conversion Category</th>\n",
       "      <th>AdWords Conversion Category</th>\n",
       "    </tr>\n",
       "  </thead>\n",
       "  <tbody>\n",
       "    <tr>\n",
       "      <th>0</th>\n",
       "      <td>2019-01-01</td>\n",
       "      <td>FB_Jan19</td>\n",
       "      <td>2116</td>\n",
       "      <td>18</td>\n",
       "      <td>8</td>\n",
       "      <td>126.0</td>\n",
       "      <td>0.83</td>\n",
       "      <td>42.73</td>\n",
       "      <td>7.14</td>\n",
       "      <td>AW_Jan19</td>\n",
       "      <td>4984</td>\n",
       "      <td>59</td>\n",
       "      <td>5</td>\n",
       "      <td>$194</td>\n",
       "      <td>1.18%</td>\n",
       "      <td>8.40%</td>\n",
       "      <td>$3.30</td>\n",
       "      <td>6 - 10</td>\n",
       "      <td>less than 6</td>\n",
       "    </tr>\n",
       "    <tr>\n",
       "      <th>1</th>\n",
       "      <td>2019-01-02</td>\n",
       "      <td>FB_Jan19</td>\n",
       "      <td>3106</td>\n",
       "      <td>36</td>\n",
       "      <td>12</td>\n",
       "      <td>104.0</td>\n",
       "      <td>1.15</td>\n",
       "      <td>34.04</td>\n",
       "      <td>2.91</td>\n",
       "      <td>AW_Jan19</td>\n",
       "      <td>4022</td>\n",
       "      <td>71</td>\n",
       "      <td>6</td>\n",
       "      <td>$75</td>\n",
       "      <td>1.77%</td>\n",
       "      <td>7.80%</td>\n",
       "      <td>$1.05</td>\n",
       "      <td>10 - 15</td>\n",
       "      <td>6 - 10</td>\n",
       "    </tr>\n",
       "    <tr>\n",
       "      <th>2</th>\n",
       "      <td>2019-01-03</td>\n",
       "      <td>FB_Jan19</td>\n",
       "      <td>3105</td>\n",
       "      <td>26</td>\n",
       "      <td>8</td>\n",
       "      <td>102.0</td>\n",
       "      <td>0.84</td>\n",
       "      <td>31.45</td>\n",
       "      <td>3.89</td>\n",
       "      <td>AW_Jan19</td>\n",
       "      <td>3863</td>\n",
       "      <td>44</td>\n",
       "      <td>4</td>\n",
       "      <td>$141</td>\n",
       "      <td>1.13%</td>\n",
       "      <td>9.59%</td>\n",
       "      <td>$3.23</td>\n",
       "      <td>6 - 10</td>\n",
       "      <td>less than 6</td>\n",
       "    </tr>\n",
       "    <tr>\n",
       "      <th>3</th>\n",
       "      <td>2019-01-04</td>\n",
       "      <td>FB_Jan19</td>\n",
       "      <td>1107</td>\n",
       "      <td>27</td>\n",
       "      <td>9</td>\n",
       "      <td>71.0</td>\n",
       "      <td>2.45</td>\n",
       "      <td>34.76</td>\n",
       "      <td>2.62</td>\n",
       "      <td>AW_Jan19</td>\n",
       "      <td>3911</td>\n",
       "      <td>49</td>\n",
       "      <td>5</td>\n",
       "      <td>$141</td>\n",
       "      <td>1.26%</td>\n",
       "      <td>11.08%</td>\n",
       "      <td>$2.86</td>\n",
       "      <td>6 - 10</td>\n",
       "      <td>less than 6</td>\n",
       "    </tr>\n",
       "    <tr>\n",
       "      <th>4</th>\n",
       "      <td>2019-01-05</td>\n",
       "      <td>FB_Jan19</td>\n",
       "      <td>1317</td>\n",
       "      <td>15</td>\n",
       "      <td>7</td>\n",
       "      <td>78.0</td>\n",
       "      <td>1.10</td>\n",
       "      <td>47.59</td>\n",
       "      <td>5.38</td>\n",
       "      <td>AW_Jan19</td>\n",
       "      <td>4070</td>\n",
       "      <td>55</td>\n",
       "      <td>7</td>\n",
       "      <td>$133</td>\n",
       "      <td>1.36%</td>\n",
       "      <td>12.22%</td>\n",
       "      <td>$2.40</td>\n",
       "      <td>6 - 10</td>\n",
       "      <td>6 - 10</td>\n",
       "    </tr>\n",
       "  </tbody>\n",
       "</table>\n",
       "</div>"
      ],
      "text/plain": [
       "        Date Facebook Ad Campaign  Facebook Ad Views  Facebook Ad Clicks  \\\n",
       "0 2019-01-01             FB_Jan19               2116                  18   \n",
       "1 2019-01-02             FB_Jan19               3106                  36   \n",
       "2 2019-01-03             FB_Jan19               3105                  26   \n",
       "3 2019-01-04             FB_Jan19               1107                  27   \n",
       "4 2019-01-05             FB_Jan19               1317                  15   \n",
       "\n",
       "   Facebook Ad Conversions  Cost per Facebook Ad  \\\n",
       "0                        8                 126.0   \n",
       "1                       12                 104.0   \n",
       "2                        8                 102.0   \n",
       "3                        9                  71.0   \n",
       "4                        7                  78.0   \n",
       "\n",
       "   Facebook Click-Through Rate (Clicks / View)  \\\n",
       "0                                         0.83   \n",
       "1                                         1.15   \n",
       "2                                         0.84   \n",
       "3                                         2.45   \n",
       "4                                         1.10   \n",
       "\n",
       "   Facebook Conversion Rate (Conversions / Clicks)  \\\n",
       "0                                            42.73   \n",
       "1                                            34.04   \n",
       "2                                            31.45   \n",
       "3                                            34.76   \n",
       "4                                            47.59   \n",
       "\n",
       "   Facebook Cost per Click (Ad Cost / Clicks) AdWords Ad Campaign  \\\n",
       "0                                        7.14            AW_Jan19   \n",
       "1                                        2.91            AW_Jan19   \n",
       "2                                        3.89            AW_Jan19   \n",
       "3                                        2.62            AW_Jan19   \n",
       "4                                        5.38            AW_Jan19   \n",
       "\n",
       "   AdWords Ad Views  AdWords Ad Clicks  AdWords Ad Conversions  \\\n",
       "0              4984                 59                       5   \n",
       "1              4022                 71                       6   \n",
       "2              3863                 44                       4   \n",
       "3              3911                 49                       5   \n",
       "4              4070                 55                       7   \n",
       "\n",
       "  Cost per AdWords Ad AdWords Click-Through Rate (Clicks / View)  \\\n",
       "0                $194                                      1.18%   \n",
       "1                 $75                                      1.77%   \n",
       "2                $141                                      1.13%   \n",
       "3                $141                                      1.26%   \n",
       "4                $133                                      1.36%   \n",
       "\n",
       "  AdWords Conversion Rate (Conversions / Click)  \\\n",
       "0                                         8.40%   \n",
       "1                                         7.80%   \n",
       "2                                         9.59%   \n",
       "3                                        11.08%   \n",
       "4                                        12.22%   \n",
       "\n",
       "  AdWords Cost per Click (Ad Cost / Clicks) Facebook Conversion Category  \\\n",
       "0                                     $3.30                       6 - 10   \n",
       "1                                     $1.05                      10 - 15   \n",
       "2                                     $3.23                       6 - 10   \n",
       "3                                     $2.86                       6 - 10   \n",
       "4                                     $2.40                       6 - 10   \n",
       "\n",
       "  AdWords Conversion Category  \n",
       "0                 less than 6  \n",
       "1                      6 - 10  \n",
       "2                 less than 6  \n",
       "3                 less than 6  \n",
       "4                      6 - 10  "
      ]
     },
     "execution_count": 34,
     "metadata": {},
     "output_type": "execute_result"
    }
   ],
   "source": [
    "df.head()"
   ]
  },
  {
   "cell_type": "code",
   "execution_count": 35,
   "id": "a946b2b5",
   "metadata": {},
   "outputs": [],
   "source": [
    "df1 = df[['Date','Facebook Ad Views','Facebook Ad Clicks','Facebook Ad Conversions',\n",
    "             'Cost per Facebook Ad','Facebook Click-Through Rate (Clicks / View)','Facebook Conversion Rate (Conversions / Clicks)',\n",
    "             'Facebook Cost per Click (Ad Cost / Clicks)']]"
   ]
  },
  {
   "cell_type": "code",
   "execution_count": 36,
   "id": "51c3e08f",
   "metadata": {},
   "outputs": [
    {
     "data": {
      "text/html": [
       "<div>\n",
       "<style scoped>\n",
       "    .dataframe tbody tr th:only-of-type {\n",
       "        vertical-align: middle;\n",
       "    }\n",
       "\n",
       "    .dataframe tbody tr th {\n",
       "        vertical-align: top;\n",
       "    }\n",
       "\n",
       "    .dataframe thead th {\n",
       "        text-align: right;\n",
       "    }\n",
       "</style>\n",
       "<table border=\"1\" class=\"dataframe\">\n",
       "  <thead>\n",
       "    <tr style=\"text-align: right;\">\n",
       "      <th></th>\n",
       "      <th>Date</th>\n",
       "      <th>Facebook Ad Views</th>\n",
       "      <th>Facebook Ad Clicks</th>\n",
       "      <th>Facebook Ad Conversions</th>\n",
       "      <th>Cost per Facebook Ad</th>\n",
       "      <th>Facebook Click-Through Rate (Clicks / View)</th>\n",
       "      <th>Facebook Conversion Rate (Conversions / Clicks)</th>\n",
       "      <th>Facebook Cost per Click (Ad Cost / Clicks)</th>\n",
       "    </tr>\n",
       "  </thead>\n",
       "  <tbody>\n",
       "    <tr>\n",
       "      <th>0</th>\n",
       "      <td>2019-01-01</td>\n",
       "      <td>2116</td>\n",
       "      <td>18</td>\n",
       "      <td>8</td>\n",
       "      <td>126.0</td>\n",
       "      <td>0.83</td>\n",
       "      <td>42.73</td>\n",
       "      <td>7.14</td>\n",
       "    </tr>\n",
       "    <tr>\n",
       "      <th>1</th>\n",
       "      <td>2019-01-02</td>\n",
       "      <td>3106</td>\n",
       "      <td>36</td>\n",
       "      <td>12</td>\n",
       "      <td>104.0</td>\n",
       "      <td>1.15</td>\n",
       "      <td>34.04</td>\n",
       "      <td>2.91</td>\n",
       "    </tr>\n",
       "    <tr>\n",
       "      <th>2</th>\n",
       "      <td>2019-01-03</td>\n",
       "      <td>3105</td>\n",
       "      <td>26</td>\n",
       "      <td>8</td>\n",
       "      <td>102.0</td>\n",
       "      <td>0.84</td>\n",
       "      <td>31.45</td>\n",
       "      <td>3.89</td>\n",
       "    </tr>\n",
       "    <tr>\n",
       "      <th>3</th>\n",
       "      <td>2019-01-04</td>\n",
       "      <td>1107</td>\n",
       "      <td>27</td>\n",
       "      <td>9</td>\n",
       "      <td>71.0</td>\n",
       "      <td>2.45</td>\n",
       "      <td>34.76</td>\n",
       "      <td>2.62</td>\n",
       "    </tr>\n",
       "    <tr>\n",
       "      <th>4</th>\n",
       "      <td>2019-01-05</td>\n",
       "      <td>1317</td>\n",
       "      <td>15</td>\n",
       "      <td>7</td>\n",
       "      <td>78.0</td>\n",
       "      <td>1.10</td>\n",
       "      <td>47.59</td>\n",
       "      <td>5.38</td>\n",
       "    </tr>\n",
       "  </tbody>\n",
       "</table>\n",
       "</div>"
      ],
      "text/plain": [
       "        Date  Facebook Ad Views  Facebook Ad Clicks  Facebook Ad Conversions  \\\n",
       "0 2019-01-01               2116                  18                        8   \n",
       "1 2019-01-02               3106                  36                       12   \n",
       "2 2019-01-03               3105                  26                        8   \n",
       "3 2019-01-04               1107                  27                        9   \n",
       "4 2019-01-05               1317                  15                        7   \n",
       "\n",
       "   Cost per Facebook Ad  Facebook Click-Through Rate (Clicks / View)  \\\n",
       "0                 126.0                                         0.83   \n",
       "1                 104.0                                         1.15   \n",
       "2                 102.0                                         0.84   \n",
       "3                  71.0                                         2.45   \n",
       "4                  78.0                                         1.10   \n",
       "\n",
       "   Facebook Conversion Rate (Conversions / Clicks)  \\\n",
       "0                                            42.73   \n",
       "1                                            34.04   \n",
       "2                                            31.45   \n",
       "3                                            34.76   \n",
       "4                                            47.59   \n",
       "\n",
       "   Facebook Cost per Click (Ad Cost / Clicks)  \n",
       "0                                        7.14  \n",
       "1                                        2.91  \n",
       "2                                        3.89  \n",
       "3                                        2.62  \n",
       "4                                        5.38  "
      ]
     },
     "execution_count": 36,
     "metadata": {},
     "output_type": "execute_result"
    }
   ],
   "source": [
    "df1.head()"
   ]
  },
  {
   "cell_type": "markdown",
   "id": "5e8ede76",
   "metadata": {},
   "source": [
    "## At what times of the month or days of the week do we observe the conversions?"
   ]
  },
  {
   "cell_type": "code",
   "execution_count": 37,
   "id": "ef9228f5",
   "metadata": {},
   "outputs": [],
   "source": [
    "df1['month'] = df1['Date'].dt.month\n",
    "df1['week'] = df1['Date'].dt.weekday"
   ]
  },
  {
   "cell_type": "code",
   "execution_count": 38,
   "id": "b883b6d0",
   "metadata": {},
   "outputs": [
    {
     "data": {
      "text/html": [
       "<div>\n",
       "<style scoped>\n",
       "    .dataframe tbody tr th:only-of-type {\n",
       "        vertical-align: middle;\n",
       "    }\n",
       "\n",
       "    .dataframe tbody tr th {\n",
       "        vertical-align: top;\n",
       "    }\n",
       "\n",
       "    .dataframe thead th {\n",
       "        text-align: right;\n",
       "    }\n",
       "</style>\n",
       "<table border=\"1\" class=\"dataframe\">\n",
       "  <thead>\n",
       "    <tr style=\"text-align: right;\">\n",
       "      <th></th>\n",
       "      <th>Date</th>\n",
       "      <th>Facebook Ad Views</th>\n",
       "      <th>Facebook Ad Clicks</th>\n",
       "      <th>Facebook Ad Conversions</th>\n",
       "      <th>Cost per Facebook Ad</th>\n",
       "      <th>Facebook Click-Through Rate (Clicks / View)</th>\n",
       "      <th>Facebook Conversion Rate (Conversions / Clicks)</th>\n",
       "      <th>Facebook Cost per Click (Ad Cost / Clicks)</th>\n",
       "      <th>month</th>\n",
       "      <th>week</th>\n",
       "    </tr>\n",
       "  </thead>\n",
       "  <tbody>\n",
       "    <tr>\n",
       "      <th>0</th>\n",
       "      <td>2019-01-01</td>\n",
       "      <td>2116</td>\n",
       "      <td>18</td>\n",
       "      <td>8</td>\n",
       "      <td>126.0</td>\n",
       "      <td>0.83</td>\n",
       "      <td>42.73</td>\n",
       "      <td>7.14</td>\n",
       "      <td>1</td>\n",
       "      <td>1</td>\n",
       "    </tr>\n",
       "    <tr>\n",
       "      <th>1</th>\n",
       "      <td>2019-01-02</td>\n",
       "      <td>3106</td>\n",
       "      <td>36</td>\n",
       "      <td>12</td>\n",
       "      <td>104.0</td>\n",
       "      <td>1.15</td>\n",
       "      <td>34.04</td>\n",
       "      <td>2.91</td>\n",
       "      <td>1</td>\n",
       "      <td>2</td>\n",
       "    </tr>\n",
       "    <tr>\n",
       "      <th>2</th>\n",
       "      <td>2019-01-03</td>\n",
       "      <td>3105</td>\n",
       "      <td>26</td>\n",
       "      <td>8</td>\n",
       "      <td>102.0</td>\n",
       "      <td>0.84</td>\n",
       "      <td>31.45</td>\n",
       "      <td>3.89</td>\n",
       "      <td>1</td>\n",
       "      <td>3</td>\n",
       "    </tr>\n",
       "    <tr>\n",
       "      <th>3</th>\n",
       "      <td>2019-01-04</td>\n",
       "      <td>1107</td>\n",
       "      <td>27</td>\n",
       "      <td>9</td>\n",
       "      <td>71.0</td>\n",
       "      <td>2.45</td>\n",
       "      <td>34.76</td>\n",
       "      <td>2.62</td>\n",
       "      <td>1</td>\n",
       "      <td>4</td>\n",
       "    </tr>\n",
       "    <tr>\n",
       "      <th>4</th>\n",
       "      <td>2019-01-05</td>\n",
       "      <td>1317</td>\n",
       "      <td>15</td>\n",
       "      <td>7</td>\n",
       "      <td>78.0</td>\n",
       "      <td>1.10</td>\n",
       "      <td>47.59</td>\n",
       "      <td>5.38</td>\n",
       "      <td>1</td>\n",
       "      <td>5</td>\n",
       "    </tr>\n",
       "  </tbody>\n",
       "</table>\n",
       "</div>"
      ],
      "text/plain": [
       "        Date  Facebook Ad Views  Facebook Ad Clicks  Facebook Ad Conversions  \\\n",
       "0 2019-01-01               2116                  18                        8   \n",
       "1 2019-01-02               3106                  36                       12   \n",
       "2 2019-01-03               3105                  26                        8   \n",
       "3 2019-01-04               1107                  27                        9   \n",
       "4 2019-01-05               1317                  15                        7   \n",
       "\n",
       "   Cost per Facebook Ad  Facebook Click-Through Rate (Clicks / View)  \\\n",
       "0                 126.0                                         0.83   \n",
       "1                 104.0                                         1.15   \n",
       "2                 102.0                                         0.84   \n",
       "3                  71.0                                         2.45   \n",
       "4                  78.0                                         1.10   \n",
       "\n",
       "   Facebook Conversion Rate (Conversions / Clicks)  \\\n",
       "0                                            42.73   \n",
       "1                                            34.04   \n",
       "2                                            31.45   \n",
       "3                                            34.76   \n",
       "4                                            47.59   \n",
       "\n",
       "   Facebook Cost per Click (Ad Cost / Clicks)  month  week  \n",
       "0                                        7.14      1     1  \n",
       "1                                        2.91      1     2  \n",
       "2                                        3.89      1     3  \n",
       "3                                        2.62      1     4  \n",
       "4                                        5.38      1     5  "
      ]
     },
     "execution_count": 38,
     "metadata": {},
     "output_type": "execute_result"
    }
   ],
   "source": [
    "df1.head()"
   ]
  },
  {
   "cell_type": "code",
   "execution_count": 39,
   "id": "65405ca9",
   "metadata": {},
   "outputs": [
    {
     "data": {
      "image/png": "[encoded data removed]",
      "text/plain": [
       "<Figure size 800x500 with 1 Axes>"
      ]
     },
     "metadata": {},
     "output_type": "display_data"
    }
   ],
   "source": [
    "plt.figure(figsize=(8,5))\n",
    "plt.title('Weekly Conversions')\n",
    "weekly_conversions = df1.groupby('week')[['Facebook Ad Conversions']].sum()\n",
    "week_names = ['Sunday','Monday','Tuesday','Wednesday','Thursday','Friday','Saturday']\n",
    "plt.bar(week_names,weekly_conversions['Facebook Ad Conversions'],color='#03989E',edgecolor='k')\n",
    "plt.show()"
   ]
  },
  {
   "cell_type": "code",
   "execution_count": 40,
   "id": "0877fbb1",
   "metadata": {},
   "outputs": [
    {
     "data": {
      "image/png": "[encoded data removed]",
      "text/plain": [
       "<Figure size 800x500 with 1 Axes>"
      ]
     },
     "metadata": {},
     "output_type": "display_data"
    }
   ],
   "source": [
    "plt.figure(figsize=(8,5))\n",
    "plt.title('Monthly Conversions')\n",
    "monthly_conversions = df1.groupby('month')[['Facebook Ad Conversions']].sum()\n",
    "month_names = ['Jan','Feb','Mar','Apr','May','Jun','Jul','Aug','Sept','Oct','Nov','Dec']\n",
    "plt.plot(month_names,monthly_conversions['Facebook Ad Conversions'],'-o',color='#A62372')\n",
    "plt.show()"
   ]
  },
  {
   "cell_type": "markdown",
   "id": "06649f27",
   "metadata": {},
   "source": [
    "- Across the weekdays over a year, the total number of conversions remains relatively consistent, indicating a consistent level of engagement throughout the week. However, Mondays and Tuesdays consistently exhibit the highest conversion rates compared to other days, suggesting that the beginning of the workweek sees heightened user engagement or responsiveness to marketing efforts.\n",
    "- Examining the monthly trend in conversions reveals an overall upward trajectory, indicating a general increase in conversions over time. However, certain months stand out with variations in conversion rates. February, April, May, June, August, and November experience a decline in conversions compared to neighboring months. These periods of decreased conversion rates could be influenced by factors such as seasonal fluctuations, changes in consumer behavior, or adjustments in marketing strategies."
   ]
  },
  {
   "cell_type": "markdown",
   "id": "d7704e53",
   "metadata": {},
   "source": [
    "### How does the Cost Per Conversion (CPC) trend over time?"
   ]
  },
  {
   "cell_type": "markdown",
   "id": "0a4d5075",
   "metadata": {},
   "source": [
    "Cost Per Conversion (CPC): This metric is used to evaluate the cost effectiveness and profitability of an online advertising campaign. This metric helps marketers understand how much they are spending to obtain each conversion, allowing them to optimize their spending and targeting strategies effectively."
   ]
  },
  {
   "cell_type": "code",
   "execution_count": 41,
   "id": "d2d86e09",
   "metadata": {},
   "outputs": [
    {
     "data": {
      "image/png": "[encoded data removed]",
      "text/plain": [
       "<Figure size 800x500 with 1 Axes>"
      ]
     },
     "metadata": {},
     "output_type": "display_data"
    }
   ],
   "source": [
    "plt.figure(figsize=(8,5))\n",
    "plt.title('Monthly Cost Per Conversion (CPC)')\n",
    "monthly_df = df1.groupby('month')[['Facebook Ad Conversions','Cost per Facebook Ad']].sum()\n",
    "monthly_df['Cost Per Conversion'] = monthly_df['Cost per Facebook Ad']/monthly_df['Facebook Ad Conversions']\n",
    "plt.plot(month_names,monthly_df['Cost Per Conversion'],'-o',color='#A62372')\n",
    "plt.show()"
   ]
  },
  {
   "cell_type": "markdown",
   "id": "0fdfd0bd",
   "metadata": {},
   "source": [
    "- The CPC trend over the 12-month period shows some fluctuations but overall maintains a relatively stable range.\n",
    "- May and November have the lowest CPC values, indicating potentially more cost-effective advertising or higher conversion rates during these periods.\n",
    "- February has the highest CPC value, suggesting that advertising costs may be relatively higher during this month compared to others.\n",
    "- Lower CPC values in certain months (e.g., May and November) could indicate periods of higher advertising effectiveness or more favorable market conditions.\n",
    "Consider allocating more advertising budget to months with historically lower CPC values (e.g., May and November) to maximize ROI."
   ]
  },
  {
   "cell_type": "markdown",
   "id": "e5e6351f",
   "metadata": {},
   "source": [
    "#### Is there a long-term equilibrium relationship between advertising spend and conversion rates that suggests a stable, proportional impact of budget changes on conversions over time?"
   ]
  },
  {
   "cell_type": "code",
   "execution_count": 42,
   "id": "1d6cda2a",
   "metadata": {},
   "outputs": [
    {
     "name": "stdout",
     "output_type": "stream",
     "text": [
      "Cointegration test score:  -14.755428385103219\n",
      "P-value:  2.1337375979061323e-26\n",
      "\n",
      "p-value is less than significance value so we reject the null hypothesis\n"
     ]
    }
   ],
   "source": [
    "score, p_value,_ = coint(df['Cost per Facebook Ad'],df['Facebook Ad Conversions'])\n",
    "print('Cointegration test score: ',score)\n",
    "print('P-value: ',p_value)\n",
    "if p_value<0.05:\n",
    "    print('\\np-value is less than significance value so we reject the null hypothesis')\n",
    "else:\n",
    "    print('\\np-value is more than significance value so we accept the null hypothesis')"
   ]
  },
  {
   "cell_type": "markdown",
   "id": "333e9e03",
   "metadata": {},
   "source": [
    "Since the p-value is significantly lower than the chosen significance level, we reject the null hypothesis. This indicates that there is a long-term equilibrium relationship between advertising spend (cost) and conversions.\n",
    "\n",
    "Businesses can use this understanding of the stable relationship between cost and conversions to optimize their advertising strategies. By investing in campaigns that demonstrate a strong return on investment (ROI) and adjusting spending based on performance, companies can maximize conversions while minimizing costs."
   ]
  }
 ],
 "metadata": {
  "kernelspec": {
   "display_name": "Python 3 (ipykernel)",
   "language": "python",
   "name": "python3"
  },
  "language_info": {
   "codemirror_mode": {
    "name": "ipython",
    "version": 3
   },
   "file_extension": ".py",
   "mimetype": "text/x-python",
   "name": "python",
   "nbconvert_exporter": "python",
   "pygments_lexer": "ipython3",
   "version": "3.9.13"
  }
 },
 "nbformat": 4,
 "nbformat_minor": 5
}
